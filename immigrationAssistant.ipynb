{
 "cells": [
  {
   "cell_type": "markdown",
   "metadata": {},
   "source": [
    "# OpenAI Agent with LlamaIndex\n",
    "\n",
    "## Install Dependencies"
   ]
  },
  {
   "cell_type": "code",
   "execution_count": 4,
   "metadata": {},
   "outputs": [],
   "source": [
    "# !source /Users/joshjung/Library/Mobile\\ Documents/com~apple~CloudDocs/Documents/personalProjects/aiagenthackathon/venv/bin/activate\n",
    "!echo \"YOUR API KEY\" > .env\n",
    "# !which python3\n",
    "\n"
   ]
  },
  {
   "cell_type": "code",
   "execution_count": 5,
   "metadata": {},
   "outputs": [],
   "source": [
    "# %pip install uv\n",
    "# %uv pip install --system -qU llama-index==0.11.6 llama-index-llms-openai llama-index-readers-file llama-index-embeddings-openai \"openinference-instrumentation-llama-index>=2\" arize-phoenix python-dotenv\n",
    "# !which python3"
   ]
  },
  {
   "cell_type": "markdown",
   "metadata": {},
   "source": [
    "## Setup API Keys\n"
   ]
  },
  {
   "cell_type": "code",
   "execution_count": 6,
   "metadata": {},
   "outputs": [],
   "source": [
    "from os import environ\n",
    "from dotenv import load_dotenv\n",
    "\n",
    "load_dotenv()\n",
    "\n",
    "OPENAI_API_KEY = environ[\"OPENAI_API_KEY\"]\n",
    "# OPENAI_API_KEY = os.getenv(\"OPENAI_API_KEY\")"
   ]
  },
  {
   "cell_type": "markdown",
   "metadata": {},
   "source": [
    "## Import libraries and setup LlamaIndex"
   ]
  },
  {
   "cell_type": "code",
   "execution_count": 7,
   "metadata": {},
   "outputs": [],
   "source": [
    "from llama_index.core import (\n",
    "    SimpleDirectoryReader,\n",
    "    VectorStoreIndex,\n",
    "    StorageContext,\n",
    "    load_index_from_storage,\n",
    ")\n",
    "from llama_index.core.tools import QueryEngineTool, ToolMetadata\n",
    "from llama_index.core.agent import ReActAgent\n",
    "from llama_index.llms.openai import OpenAI\n",
    "\n",
    "\n",
    "# Create an llm object to use for the QueryEngine and the ReActAgent\n",
    "llm = OpenAI(model=\"gpt-4\")"
   ]
  },
  {
   "cell_type": "markdown",
   "metadata": {},
   "source": [
    "# Set up Phoenix"
   ]
  },
  {
   "cell_type": "code",
   "execution_count": 10,
   "metadata": {},
   "outputs": [],
   "source": [
    "# import phoenix as px\n",
    "# session = px.launch_app()"
   ]
  },
  {
   "cell_type": "code",
   "execution_count": 12,
   "metadata": {},
   "outputs": [],
   "source": [
    "# from openinference.instrumentation.llama_index import LlamaIndexInstrumentor\n",
    "# from phoenix.otel import register\n",
    "\n",
    "# tracer_provider = register()\n",
    "# LlamaIndexInstrumentor().instrument(tracer_provider=tracer_provider)"
   ]
  },
  {
   "cell_type": "markdown",
   "metadata": {},
   "source": [
    "## Load Documents"
   ]
  },
  {
   "cell_type": "code",
   "execution_count": 26,
   "metadata": {},
   "outputs": [],
   "source": [
    "try:\n",
    "    storage_context = StorageContext.from_defaults(\n",
    "        persist_dir=\"./storage/asylum\"\n",
    "    )\n",
    "    asylum_index = load_index_from_storage(storage_context)\n",
    "\n",
    "    storage_context = StorageContext.from_defaults(\n",
    "        persist_dir=\"./storage/niw\"\n",
    "    )\n",
    "    niw_index = load_index_from_storage(storage_context)\n",
    "\n",
    "    index_loaded = True\n",
    "except:\n",
    "    index_loaded = False"
   ]
  },
  {
   "cell_type": "markdown",
   "metadata": {},
   "source": [
    "This is the point we create our vector indexes, by calculating the embedding vectors for each of the chunks. You only need to run this once."
   ]
  },
  {
   "cell_type": "code",
   "execution_count": 30,
   "metadata": {},
   "outputs": [
    {
     "data": {
      "application/vnd.jupyter.widget-view+json": {
       "model_id": "5305a226893d4e5085d7de7556a5c285",
       "version_major": 2,
       "version_minor": 0
      },
      "text/plain": [
       "Parsing nodes:   0%|          | 0/2745 [00:00<?, ?it/s]"
      ]
     },
     "metadata": {},
     "output_type": "display_data"
    },
    {
     "data": {
      "application/vnd.jupyter.widget-view+json": {
       "model_id": "9542dc87d9924aaba2ccd709217ea64a",
       "version_major": 2,
       "version_minor": 0
      },
      "text/plain": [
       "Generating embeddings:   0%|          | 0/2048 [00:00<?, ?it/s]"
      ]
     },
     "metadata": {},
     "output_type": "display_data"
    },
    {
     "data": {
      "application/vnd.jupyter.widget-view+json": {
       "model_id": "2aad037bd0084b1eb379daee299451ce",
       "version_major": 2,
       "version_minor": 0
      },
      "text/plain": [
       "Generating embeddings:   0%|          | 0/2048 [00:00<?, ?it/s]"
      ]
     },
     "metadata": {},
     "output_type": "display_data"
    },
    {
     "data": {
      "application/vnd.jupyter.widget-view+json": {
       "model_id": "36e134519a8b42baa652ce4978c4026b",
       "version_major": 2,
       "version_minor": 0
      },
      "text/plain": [
       "Generating embeddings:   0%|          | 0/1643 [00:00<?, ?it/s]"
      ]
     },
     "metadata": {},
     "output_type": "display_data"
    },
    {
     "data": {
      "application/vnd.jupyter.widget-view+json": {
       "model_id": "2e98ba577d204ac487af15a73db058bd",
       "version_major": 2,
       "version_minor": 0
      },
      "text/plain": [
       "Parsing nodes:   0%|          | 0/171 [00:00<?, ?it/s]"
      ]
     },
     "metadata": {},
     "output_type": "display_data"
    },
    {
     "data": {
      "application/vnd.jupyter.widget-view+json": {
       "model_id": "00bbc631d7f54cc8ba97a46336a7c0a7",
       "version_major": 2,
       "version_minor": 0
      },
      "text/plain": [
       "Generating embeddings:   0%|          | 0/182 [00:00<?, ?it/s]"
      ]
     },
     "metadata": {},
     "output_type": "display_data"
    }
   ],
   "source": [
    "if not index_loaded:\n",
    "    # load data\n",
    "    asylum_docs = SimpleDirectoryReader(\n",
    "        # input_files=[\"./docs/asylum/How to Seek Asylum in the United States.pdf\",\"./docs/asylum/i-589instr.pdf\",\"./docs/asylum/Immigration Law Sourcebook.pdf\"]\n",
    "        input_dir = \"./docs/asylum\",\n",
    "        recursive=True\n",
    "    ).load_data()\n",
    "    niw_docs = SimpleDirectoryReader(\n",
    "        # input_files=[\"./docs/niw/.pdf\"]\n",
    "        input_dir=\"./docs/niw/\", recursive=True\n",
    "    ).load_data()\n",
    "\n",
    "    # build index\n",
    "    asylum_index = VectorStoreIndex.from_documents(asylum_docs, show_progress=True)\n",
    "    niw_index = VectorStoreIndex.from_documents(niw_docs, show_progress=True)\n",
    "\n",
    "    # persist index\n",
    "    asylum_index.storage_context.persist(persist_dir=\"./storage/asylum\")\n",
    "    niw_index.storage_context.persist(persist_dir=\"./storage/niw\")"
   ]
  },
  {
   "cell_type": "markdown",
   "metadata": {},
   "source": [
    "Now create the query engines."
   ]
  },
  {
   "cell_type": "code",
   "execution_count": 31,
   "metadata": {},
   "outputs": [],
   "source": [
    "asylum_engine = asylum_index.as_query_engine(similarity_top_k=3, llm=llm)\n",
    "niw_engine = niw_index.as_query_engine(similarity_top_k=3, llm=llm)"
   ]
  },
  {
   "cell_type": "markdown",
   "metadata": {},
   "source": [
    "We can now define the query engines as tools that will be used by the agent.\n",
    "\n",
    "As there is a query engine per document we need to also define one tool for each of them."
   ]
  },
  {
   "cell_type": "code",
   "execution_count": 32,
   "metadata": {},
   "outputs": [],
   "source": [
    "query_engine_tools = [\n",
    "    QueryEngineTool(\n",
    "        query_engine=asylum_engine,\n",
    "        metadata=ToolMetadata(\n",
    "            name=\"asylum_docs\",\n",
    "            description=(\n",
    "                \"Provides information about asylum application process in the United States. \"\n",
    "                \"Use a detailed plain text question as input to the tool.\"\n",
    "            ),\n",
    "        ),\n",
    "    ),\n",
    "    QueryEngineTool(\n",
    "        query_engine=niw_engine,\n",
    "        metadata=ToolMetadata(\n",
    "            name=\"niw_docs\",\n",
    "            description=(\n",
    "                \"Provides information about NIW green card application process. \"\n",
    "                \"Use a detailed plain text question as input to the tool.\"\n",
    "            ),\n",
    "        ),\n",
    "    ),\n",
    "]"
   ]
  },
  {
   "cell_type": "markdown",
   "metadata": {},
   "source": [
    "## Creating the Agent\n",
    "Now we have all the elements to create a LlamaIndex ReactAgent"
   ]
  },
  {
   "cell_type": "code",
   "execution_count": 35,
   "metadata": {},
   "outputs": [],
   "source": [
    "agent = ReActAgent.from_tools(\n",
    "    query_engine_tools,\n",
    "    llm=llm,\n",
    "    verbose=True,\n",
    "    max_turns=10,\n",
    ")"
   ]
  },
  {
   "cell_type": "markdown",
   "metadata": {},
   "source": [
    "Now we can interact with the agent and ask a question."
   ]
  },
  {
   "cell_type": "code",
   "execution_count": 18,
   "metadata": {},
   "outputs": [
    {
     "name": "stdout",
     "output_type": "stream",
     "text": [
      "> Running step cd04bb65-251a-482d-b3f1-a5d8a131deec. Step input: I am starting the asylum process. What do I need to do as the first step?\n",
      "\u001b[1;3;38;5;200mThought: The user is asking about the first step in the asylum process in the United States. I can use the asylum_docs tool to get this information.\n",
      "Action: asylum_docs\n",
      "Action Input: {'input': 'What is the first step in the asylum process?'}\n",
      "\u001b[0m\u001b[1;3;34mObservation: The first step in the asylum process is to file affirmatively for asylum. After this, you will have to wait for weeks, months or even years for an interview.\n",
      "\u001b[0m> Running step eccf7a33-85af-466b-ad2b-907d2d71a466. Step input: None\n",
      "\u001b[1;3;38;5;200mThought: I can answer without using any more tools. I'll use the user's language to answer.\n",
      "Answer: The first step in the asylum process is to file affirmatively for asylum. After filing, you may have to wait for weeks, months, or even years for an interview.\n",
      "\u001b[0mThe first step in the asylum process is to file affirmatively for asylum. After filing, you may have to wait for weeks, months, or even years for an interview.\n"
     ]
    }
   ],
   "source": [
    "response = agent.chat(\"I am starting the asylum process. What do I need to do as the first step?\")\n",
    "print(str(response))\n"
   ]
  },
  {
   "cell_type": "code",
   "execution_count": 25,
   "metadata": {},
   "outputs": [
    {
     "name": "stdout",
     "output_type": "stream",
     "text": [
      "> Running step f1e011a4-8844-4d61-8a94-a7d245166635. Step input: Answer as detail as possible based on below context.\n",
      "\n",
      "                      Tone: Inquisitive and insightful, with a gentle sense of respect for the subject matter.\n",
      "\n",
      "                      Situation:  \n",
      "I crossed the southern border of the United States on 2025-06-19. I am a citizen of the Republic ofSouth Africa. I am applying for asylum. I have a passport and address in the US\n",
      "\n",
      "\n",
      "                      Emphasis: Use specific form number and descriptive language so the user can fill out all the necessary information without help from an attorney.\n",
      "\n",
      "                      Example: You need the form I-589, your passport number, specific link to each document.\n",
      "\n",
      "                      Format: Use number list or bullet list.\n",
      "\n",
      "                      If the context does not contain the required information, search the web.\n",
      "\n",
      "\u001b[1;3;38;5;200mThought: The user is asking for a detailed guide on how to apply for asylum in the United States, including the specific forms and documents needed. I will use the asylum_docs tool to get the necessary information.\n",
      "Action: asylum_docs\n",
      "Action Input: {'input': 'How to apply for asylum in the United States as a South African citizen?'}\n",
      "\u001b[0m\u001b[1;3;34mObservation: The process of applying for asylum in the United States is the same regardless of the applicant's nationality. To apply, you need to be physically present in the U.S. and you must submit Form I-589, Application for Asylum and for Withholding of Removal, to the U.S. Citizenship and Immigration Services (USCIS). This can be done regardless of your immigration status and must be filed within one year of your arrival in the U.S. \n",
      "\n",
      "After submitting the application, you will be required to attend a biometric (fingerprint) appointment. If your case is referred from the Asylum Office to the court, this will be done automatically. However, if you did not attend a biometric appointment for the asylum case, you must make arrangements for such an appointment by contacting USCIS. \n",
      "\n",
      "You will also need to inform the Immigration Judge about the type of relief sought and submit all necessary forms at the Master Calendar Hearing (MCH). If you do not submit all applications for relief in advance of the Individual Hearing, you may forfeit those opportunities for relief. \n",
      "\n",
      "As the Individual Hearing approaches, you need to file all the necessary documents with the Immigration Court. This includes all evidence, a witness list, and a legal brief. The documents must be filed on time. \n",
      "\n",
      "It's important to note that the asylum process can be complex and it's recommended to seek legal advice. Also, the rules related to asylum are in constant flux, so it's crucial to stay updated with the latest information.\n",
      "\u001b[0m> Running step 3014db69-0725-446e-ada5-d4f21ea83f7d. Step input: None\n",
      "\u001b[1;3;38;5;200mThought: I can answer without using any more tools. I'll use the user's language to answer.\n",
      "Answer: Based on the information provided, here is a detailed guide on how to apply for asylum in the United States:\n",
      "\n",
      "1. **Form I-589**: This is the Application for Asylum and for Withholding of Removal. You must submit this form to the U.S. Citizenship and Immigration Services (USCIS). It's important to note that this must be filed within one year of your arrival in the U.S. You can find the form [here](https://www.uscis.gov/i-589).\n",
      "\n",
      "2. **Biometric Appointment**: After submitting the application, you will be required to attend a biometric (fingerprint) appointment. If your case is referred from the Asylum Office to the court, this will be done automatically. However, if you did not attend a biometric appointment for the asylum case, you must make arrangements for such an appointment by contacting USCIS.\n",
      "\n",
      "3. **Master Calendar Hearing (MCH)**: You will need to inform the Immigration Judge about the type of relief sought and submit all necessary forms at the MCH. If you do not submit all applications for relief in advance of the Individual Hearing, you may forfeit those opportunities for relief.\n",
      "\n",
      "4. **Individual Hearing**: As the Individual Hearing approaches, you need to file all the necessary documents with the Immigration Court. This includes all evidence, a witness list, and a legal brief. The documents must be filed on time.\n",
      "\n",
      "Please note that the asylum process can be complex and it's recommended to seek legal advice. Also, the rules related to asylum are in constant flux, so it's crucial to stay updated with the latest information.\n",
      "\u001b[0mBased on the information provided, here is a detailed guide on how to apply for asylum in the United States:\n",
      "\n",
      "1. **Form I-589**: This is the Application for Asylum and for Withholding of Removal. You must submit this form to the U.S. Citizenship and Immigration Services (USCIS). It's important to note that this must be filed within one year of your arrival in the U.S. You can find the form [here](https://www.uscis.gov/i-589).\n",
      "\n",
      "2. **Biometric Appointment**: After submitting the application, you will be required to attend a biometric (fingerprint) appointment. If your case is referred from the Asylum Office to the court, this will be done automatically. However, if you did not attend a biometric appointment for the asylum case, you must make arrangements for such an appointment by contacting USCIS.\n",
      "\n",
      "3. **Master Calendar Hearing (MCH)**: You will need to inform the Immigration Judge about the type of relief sought and submit all necessary forms at the MCH. If you do not submit all applications for relief in advance of the Individual Hearing, you may forfeit those opportunities for relief.\n",
      "\n",
      "4. **Individual Hearing**: As the Individual Hearing approaches, you need to file all the necessary documents with the Immigration Court. This includes all evidence, a witness list, and a legal brief. The documents must be filed on time.\n",
      "\n",
      "Please note that the asylum process can be complex and it's recommended to seek legal advice. Also, the rules related to asylum are in constant flux, so it's crucial to stay updated with the latest information.\n"
     ]
    }
   ],
   "source": [
    "user_input = \"\"\" \n",
    "I crossed the southern border of the United States on 2025-06-19. I am a citizen of the Republic ofSouth Africa. I am applying for asylum. I have a passport and address in the US\n",
    "\"\"\"\n",
    "response = agent.chat(f\"\"\"Answer as detail as possible based on below context.\n",
    "\n",
    "                      Tone: Inquisitive and insightful, with a gentle sense of respect for the subject matter.\n",
    "\n",
    "                      Situation: {user_input}\n",
    "\n",
    "                      Emphasis: Use specific form number and descriptive language so the user can fill out all the necessary information without help from an attorney.\n",
    "\n",
    "                      Example: You need the form I-589, your passport number, specific link to each document.\n",
    "\n",
    "                      Format: Use number list or bullet list.\n",
    "\n",
    "                      If the context does not contain the required information, search the web.\n",
    "\"\"\")\n",
    "print(str(response))"
   ]
  },
  {
   "cell_type": "code",
   "execution_count": 36,
   "metadata": {},
   "outputs": [
    {
     "name": "stdout",
     "output_type": "stream",
     "text": [
      "> Running step 9ff57023-6273-43dd-82fb-c1fe6623a7bb. Step input: Answer as detail as possible based on info below.\n",
      "\n",
      "                      Tone: Inquisitive and insightful, with a gentle sense of respect for the subject matter.\n",
      "\n",
      "                      Situation:  \n",
      "I did a PhD at University of Washington in Electrical Engineering and wrote 5 papers with citations more than 100. I want to start the NIW green card process.\n",
      "\n",
      "\n",
      "                      Emphasis: Use specific form number and descriptive language so the user can fill out all the necessary information without help from an attorney.\n",
      "\n",
      "                      Example: You need the form I-589, your passport number, you need forms and documents from specific links. Give examples of proposed endeavors for NIW cases.\n",
      "\n",
      "                      Format: Use number list or bullet list.\n",
      "\n",
      "                      Also, include a checklist for the whole documents.\n",
      "\n",
      "                      If the context does not contain the required information, search the web. Plus, based on what step is the user is at, provide prospective steps and froms the user needs in detail. \n",
      "\n",
      "                      Exception: If user asks a specific question regarding a form, answer it briefly. For example, if the user asks what he/she should put as the passport number if he/she has two passports, first try to answer based on the context, if the answer not found, answer based on general practices. \n",
      "\n",
      "\u001b[1;3;38;5;200mThought: The user is asking for a detailed guide on how to start the NIW green card process. I will use the niw_docs tool to gather the necessary information.\n",
      "Action: niw_docs\n",
      "Action Input: {'input': 'What are the steps and forms needed to start the NIW green card process?'}\n",
      "\u001b[0m\u001b[1;3;34mObservation: The steps to start the NIW green card process are as follows:\n",
      "\n",
      "1. Upload your CV and create a Google Scholar profile.\n",
      "2. Fill in your Summary of Contributions and revise as needed.\n",
      "3. The law group will draft your proposed endeavor statement. Meanwhile, you should fill in your List of Recommenders and contact them to confirm their willingness to sign a letter for you.\n",
      "4. The law group will draft your recommendation letters and petition letter.\n",
      "5. Review and revise the letter drafts.\n",
      "6. Send the letters to be signed.\n",
      "7. Upload the signed letters and review/revise the petition letter, then finalize the petition letter.\n",
      "8. Fill in the Questionnaire tab and forms.\n",
      "9. Upload your supporting evidence.\n",
      "10. The law group will organize your exhibits and file your case.\n",
      "11. You will receive your receipt notice within 7-30 days.\n",
      "\n",
      "The forms needed are Form I-140 and Form G-28. The Form I-140 is based on your Questionnaire and the signed form should be uploaded for review. The completed and signed Form G-28 should also be uploaded for review.\n",
      "\u001b[0m> Running step 8a6b89f0-564c-4300-8d69-3e21c25644cb. Step input: None\n",
      "\u001b[1;3;38;5;200mThought: I can answer without using any more tools. I'll use the user's language to answer.\n",
      "Answer: Based on the information provided, here is a detailed guide to start the NIW green card process:\n",
      "\n",
      "1. **Upload your CV and create a Google Scholar profile**: This will help in showcasing your academic achievements and contributions.\n",
      "\n",
      "2. **Fill in your Summary of Contributions and revise as needed**: This is a crucial part of your application where you highlight your significant contributions in your field.\n",
      "\n",
      "3. **Contact your Recommenders**: Fill in your List of Recommenders and contact them to confirm their willingness to sign a letter for you. These letters are important as they provide third-party validation of your work.\n",
      "\n",
      "4. **Drafting of Letters**: The law group will draft your recommendation letters and petition letter. These letters are key to your application and should be carefully reviewed.\n",
      "\n",
      "5. **Review and revise the letter drafts**: Make sure all the information is accurate and well-presented.\n",
      "\n",
      "6. **Send the letters to be signed**: Once you are satisfied with the drafts, send them to your recommenders for signing.\n",
      "\n",
      "7. **Upload the signed letters and finalize the petition letter**: After receiving the signed letters, upload them and finalize your petition letter.\n",
      "\n",
      "8. **Fill in the Questionnaire tab and forms**: The forms needed are Form I-140 and Form G-28. The Form I-140 is based on your Questionnaire and the signed form should be uploaded for review. The completed and signed Form G-28 should also be uploaded for review.\n",
      "\n",
      "9. **Upload your supporting evidence**: This includes your academic papers, citations, and any other relevant documents that support your case.\n",
      "\n",
      "10. **Case filing**: The law group will organize your exhibits and file your case.\n",
      "\n",
      "11. **Receipt of Notice**: You will receive your receipt notice within 7-30 days.\n",
      "\n",
      "**Checklist for the whole process**:\n",
      "\n",
      "- CV and Google Scholar profile\n",
      "- Summary of Contributions\n",
      "- List of Recommenders\n",
      "- Drafted recommendation letters and petition letter\n",
      "- Signed recommendation letters and finalized petition letter\n",
      "- Filled Form I-140 and Form G-28\n",
      "- Supporting evidence\n",
      "- Receipt notice\n",
      "\n",
      "Remember, each case is unique and the process may vary slightly based on your specific circumstances. If you have specific questions regarding a form or any part of the process, feel free to ask.\n",
      "\u001b[0mBased on the information provided, here is a detailed guide to start the NIW green card process:\n",
      "\n",
      "1. **Upload your CV and create a Google Scholar profile**: This will help in showcasing your academic achievements and contributions.\n",
      "\n",
      "2. **Fill in your Summary of Contributions and revise as needed**: This is a crucial part of your application where you highlight your significant contributions in your field.\n",
      "\n",
      "3. **Contact your Recommenders**: Fill in your List of Recommenders and contact them to confirm their willingness to sign a letter for you. These letters are important as they provide third-party validation of your work.\n",
      "\n",
      "4. **Drafting of Letters**: The law group will draft your recommendation letters and petition letter. These letters are key to your application and should be carefully reviewed.\n",
      "\n",
      "5. **Review and revise the letter drafts**: Make sure all the information is accurate and well-presented.\n",
      "\n",
      "6. **Send the letters to be signed**: Once you are satisfied with the drafts, send them to your recommenders for signing.\n",
      "\n",
      "7. **Upload the signed letters and finalize the petition letter**: After receiving the signed letters, upload them and finalize your petition letter.\n",
      "\n",
      "8. **Fill in the Questionnaire tab and forms**: The forms needed are Form I-140 and Form G-28. The Form I-140 is based on your Questionnaire and the signed form should be uploaded for review. The completed and signed Form G-28 should also be uploaded for review.\n",
      "\n",
      "9. **Upload your supporting evidence**: This includes your academic papers, citations, and any other relevant documents that support your case.\n",
      "\n",
      "10. **Case filing**: The law group will organize your exhibits and file your case.\n",
      "\n",
      "11. **Receipt of Notice**: You will receive your receipt notice within 7-30 days.\n",
      "\n",
      "**Checklist for the whole process**:\n",
      "\n",
      "- CV and Google Scholar profile\n",
      "- Summary of Contributions\n",
      "- List of Recommenders\n",
      "- Drafted recommendation letters and petition letter\n",
      "- Signed recommendation letters and finalized petition letter\n",
      "- Filled Form I-140 and Form G-28\n",
      "- Supporting evidence\n",
      "- Receipt notice\n",
      "\n",
      "Remember, each case is unique and the process may vary slightly based on your specific circumstances. If you have specific questions regarding a form or any part of the process, feel free to ask.\n"
     ]
    }
   ],
   "source": [
    "user_input = \"\"\" \n",
    "I did a PhD at University of Washington in Electrical Engineering and wrote 5 papers with citations more than 100. I want to start the NIW green card process.\n",
    "\"\"\"\n",
    "response = agent.chat(f\"\"\"Answer as detail as possible based on info below.\n",
    "\n",
    "                      Tone: Inquisitive and insightful, with a gentle sense of respect for the subject matter.\n",
    "\n",
    "                      Situation: {user_input}\n",
    "\n",
    "                      Emphasis: Use specific form number and descriptive language so the user can fill out all the necessary information without help from an attorney.\n",
    "\n",
    "                      Example: You need the form I-589, your passport number, you need forms and documents from specific links. Give examples of proposed endeavors for NIW cases.\n",
    "\n",
    "                      Format: Use number list or bullet list.\n",
    "\n",
    "                      Also, include a checklist for the whole documents.\n",
    "\n",
    "                      If the context does not contain the required information, search the web. Plus, based on what step is the user is at, provide prospective steps and froms the user needs in detail. \n",
    "\n",
    "                      Exception: If user asks a specific question regarding a form, answer it briefly. For example, if the user asks what he/she should put as the passport number if he/she has two passports, first try to answer based on the context, if the answer not found, answer based on general practices. \n",
    "\"\"\")\n",
    "print(str(response))"
   ]
  },
  {
   "cell_type": "code",
   "execution_count": 38,
   "metadata": {},
   "outputs": [
    {
     "name": "stdout",
     "output_type": "stream",
     "text": [
      "> Running step 60dc8bda-07ca-4550-ad81-eb9953378789. Step input: Answer as detail as possible based on info below.\n",
      "\n",
      "                      Tone: Inquisitive and insightful, with a gentle sense of respect for the subject matter.\n",
      "\n",
      "                      Situation:  \n",
      "I am going through the NIW process. I got recomeendation letters from 3 collaborators. I am filling out I-140. What passport number should I put if I have dual citizenship from Canada and China. I am doing my process in Canada.\n",
      "\n",
      "\n",
      "                      Emphasis: Use specific form number and descriptive language so the user can fill out all the necessary information without help from an attorney.\n",
      "\n",
      "                      Example: You need the form I-589, your passport number, you need forms and documents from specific links. Give examples of proposed endeavors for NIW cases.\n",
      "\n",
      "                      Format: Use number list or bullet list.\n",
      "\n",
      "                      Also, include a checklist for the whole documents.\n",
      "\n",
      "                      If the context does not contain the required information, search the web. Plus, based on what step is the user is at, provide prospective steps and froms the user needs in detail. \n",
      "\n",
      "                      Exception: If user asks a specific question regarding a form, answer it briefly. For example, if the user asks what he/she should put as the passport number if he/she has two passports, first try to answer based on the context, if the answer not found, answer based on general practices. \n",
      "\n",
      "\u001b[1;3;38;5;200mThought: The current language of the user is: English. I need to use a tool to help me answer the question.\n",
      "Action: niw_docs\n",
      "Action Input: {'input': 'What passport number should I put on Form I-140 if I have dual citizenship from Canada and China and I am doing my process in Canada?'}\n",
      "\u001b[0m\u001b[1;3;34mObservation: You should enter the passport number of the passport that you used when you last entered the United States.\n",
      "\u001b[0m> Running step 45d76c47-c534-4aae-bbfa-f21bea33de8a. Step input: None\n",
      "\u001b[1;3;38;5;200mThought: I can answer without using any more tools. I'll use the user's language to answer.\n",
      "Answer: When filling out Form I-140 for the NIW process, you should enter the passport number of the passport that you used when you last entered the United States. However, since you are doing your process in Canada and if you haven't used either of your passports to enter the U.S. recently, it would be advisable to use your Canadian passport number. This is because you are currently in Canada and it might make the process smoother. However, it's always a good idea to consult with an immigration attorney or expert to make sure you're providing the most appropriate information for your situation.\n",
      "\u001b[0mWhen filling out Form I-140 for the NIW process, you should enter the passport number of the passport that you used when you last entered the United States. However, since you are doing your process in Canada and if you haven't used either of your passports to enter the U.S. recently, it would be advisable to use your Canadian passport number. This is because you are currently in Canada and it might make the process smoother. However, it's always a good idea to consult with an immigration attorney or expert to make sure you're providing the most appropriate information for your situation.\n"
     ]
    }
   ],
   "source": [
    "user_input = \"\"\" \n",
    "I am going through the NIW process. I got recomeendation letters from 3 collaborators. I am filling out I-140. What passport number should I put if I have dual citizenship from Canada and China. I am doing my process in Canada.\n",
    "\"\"\"\n",
    "response = agent.chat(f\"\"\"Answer as detail as possible based on info below.\n",
    "\n",
    "                      Tone: Inquisitive and insightful, with a gentle sense of respect for the subject matter.\n",
    "\n",
    "                      Situation: {user_input}\n",
    "\n",
    "                      Emphasis: Use specific form number and descriptive language so the user can fill out all the necessary information without help from an attorney.\n",
    "\n",
    "                      Example: You need the form I-589, your passport number, you need forms and documents from specific links. Give examples of proposed endeavors for NIW cases.\n",
    "\n",
    "                      Format: Use number list or bullet list.\n",
    "\n",
    "                      Also, include a checklist for the whole documents.\n",
    "\n",
    "                      If the context does not contain the required information, search the web. Plus, based on what step is the user is at, provide prospective steps and froms the user needs in detail. \n",
    "\n",
    "                      Exception: If user asks a specific question regarding a form, answer it briefly. For example, if the user asks what he/she should put as the passport number if he/she has two passports, first try to answer based on the context, if the answer not found, answer based on general practices. \n",
    "\"\"\")\n",
    "print(str(response))"
   ]
  }
 ],
 "metadata": {
  "kernelspec": {
   "display_name": "base",
   "language": "python",
   "name": "python3"
  },
  "language_info": {
   "codemirror_mode": {
    "name": "ipython",
    "version": 3
   },
   "file_extension": ".py",
   "mimetype": "text/x-python",
   "name": "python",
   "nbconvert_exporter": "python",
   "pygments_lexer": "ipython3",
   "version": "3.12.4"
  }
 },
 "nbformat": 4,
 "nbformat_minor": 2
}
